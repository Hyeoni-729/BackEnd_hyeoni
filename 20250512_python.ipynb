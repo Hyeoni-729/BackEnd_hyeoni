{
  "nbformat": 4,
  "nbformat_minor": 0,
  "metadata": {
    "colab": {
      "provenance": [],
      "authorship_tag": "ABX9TyMLdzBfx003atyl7kR5cbFT",
      "include_colab_link": true
    },
    "kernelspec": {
      "name": "python3",
      "display_name": "Python 3"
    },
    "language_info": {
      "name": "python"
    }
  },
  "cells": [
    {
      "cell_type": "markdown",
      "metadata": {
        "id": "view-in-github",
        "colab_type": "text"
      },
      "source": [
        "<a href=\"https://colab.research.google.com/github/Hyeoni-729/python_example/blob/master/20250512_python.ipynb\" target=\"_parent\"><img src=\"https://colab.research.google.com/assets/colab-badge.svg\" alt=\"Open In Colab\"/></a>"
      ]
    },
    {
      "cell_type": "markdown",
      "source": [
        "* colab 좋은점 : 시각화가 잘 되어 있고, 설치가 필요x, 학습을 빠르게\n",
        "* .py 좋은점 : 실무화"
      ],
      "metadata": {
        "id": "qrASeyzkZZCZ"
      }
    },
    {
      "cell_type": "markdown",
      "source": [
        "# colab\n",
        "- google id만 있으면 ram을 12G, disk를 100G나 되는 원격 컴퓨터를 무료로 준다.\n",
        "- 여기에는 Python 환경이 모두 설정이 되어 있어서 별도의 설정이 필요없다.\n",
        "- google drive가 자동 연동되어서 별도로 다운로드 해서 저장할 필요없다.\n",
        "- Ctrl + Enter : 현재 셀 실행\n",
        "- Alt + Enter : 현재 셀 실행 + 아래 셀 하나 만들기"
      ],
      "metadata": {
        "id": "S5MQ8N7qIpFT"
      }
    },
    {
      "cell_type": "markdown",
      "source": [
        "# 마크업과 마크다운\n",
        "```\n",
        "- HTML은 웹 브라우저나 고급 문서를 표현\n",
        "<h1>hello world</h1>\n",
        "<h2>hello world</h2>\n",
        "<p>hello world</p>\n",
        "\n",
        "- Markdown은 서식이 필요치 않은 문서를 표현\n",
        "# hello world\n",
        "## hello world\n",
        "```\n",
        "## 마크 다운 문법(우리가 사용할 문법)\n",
        "```\n",
        "# hello world\n",
        "## hello world\n",
        "### hello world\n",
        "\n",
        "- hello world\n",
        "- hello world\n",
        "- hello world\n",
        "\n",
        "1. hello world\n",
        "2. hello world\n",
        "3. hello world\n",
        "```"
      ],
      "metadata": {
        "id": "QthuKC_VFYbJ"
      }
    },
    {
      "cell_type": "markdown",
      "source": [
        "# range"
      ],
      "metadata": {
        "id": "UcyXgLvJQbVZ"
      }
    },
    {
      "cell_type": "code",
      "execution_count": null,
      "metadata": {
        "id": "4_DW4cQ2CFJN",
        "colab": {
          "base_uri": "https://localhost:8080/"
        },
        "outputId": "c55baa97-8758-4787-9660-49b789ab62ff"
      },
      "outputs": [
        {
          "output_type": "execute_result",
          "data": {
            "text/plain": [
              "[10, 20, 30, 40]"
            ]
          },
          "metadata": {},
          "execution_count": 2
        }
      ],
      "source": [
        "l = [10, 20, 30, 40]\n",
        "l # 이렇게 마지막 라인에 한하여 print를 안해도 출력 가능"
      ]
    },
    {
      "cell_type": "code",
      "source": [
        "range(0, 10)\n",
        "# [0, 1, 2, 3, 4, 5, 6, 7, 8, 9] 왜 이렇게 안 나오는 걸까."
      ],
      "metadata": {
        "colab": {
          "base_uri": "https://localhost:8080/"
        },
        "id": "InDYqBnMJyKJ",
        "outputId": "1a800ed0-af34-424f-e733-8140878c40f2"
      },
      "execution_count": null,
      "outputs": [
        {
          "output_type": "execute_result",
          "data": {
            "text/plain": [
              "range(0, 10)"
            ]
          },
          "metadata": {},
          "execution_count": 4
        }
      ]
    },
    {
      "cell_type": "code",
      "source": [
        "# range()는 python 2.x에서는 list타입이였다.\n",
        "type(range(0, 10))"
      ],
      "metadata": {
        "colab": {
          "base_uri": "https://localhost:8080/"
        },
        "id": "5ydXFm9lKeoZ",
        "outputId": "5ce41df5-231c-44e3-bb8d-1fffd301387e"
      },
      "execution_count": null,
      "outputs": [
        {
          "output_type": "execute_result",
          "data": {
            "text/plain": [
              "range"
            ]
          },
          "metadata": {},
          "execution_count": 5
        }
      ]
    },
    {
      "cell_type": "code",
      "source": [
        "# 파이썬은 속도를 올리기 위한 작업을 매 버전마다 해왔습니다.\n",
        "# 그래서 최종목표는 c의 속도를 따라잡는 것.\n",
        "# range(100000000) 이래 데이터를 생성한다고 생각해보자.\n",
        "# 0 ~ 100000000에 숫자를 모두 메모리에 올려야 한다.\n",
        "# xrange()라는 것을 만들어서 이를 해결했다.\n",
        "# xrange는 숫자를 생성하지 않고, first, stop, step 값으로 호출 할 때 하나씩 생성 하는 방식을 새롭게 도입\n",
        "# xrange가 3.x로 오면서 range가 된 것"
      ],
      "metadata": {
        "id": "QBbnHfAWLF7H"
      },
      "execution_count": null,
      "outputs": []
    },
    {
      "cell_type": "code",
      "source": [
        "# range()의 인덱싱\n",
        "range(100, 1000, 100)[3]"
      ],
      "metadata": {
        "colab": {
          "base_uri": "https://localhost:8080/"
        },
        "id": "Wyk480iSPgB0",
        "outputId": "19147ad9-9019-4d76-88d1-47fbb5951f1a"
      },
      "execution_count": null,
      "outputs": [
        {
          "output_type": "execute_result",
          "data": {
            "text/plain": [
              "400"
            ]
          },
          "metadata": {},
          "execution_count": 9
        }
      ]
    },
    {
      "cell_type": "code",
      "source": [
        "# range()의 슬라이싱\n",
        "range(100)[1:10]"
      ],
      "metadata": {
        "colab": {
          "base_uri": "https://localhost:8080/"
        },
        "id": "H05iuc08Pk-T",
        "outputId": "e281f73d-26b9-4e25-e142-2b1f7e97de70"
      },
      "execution_count": null,
      "outputs": [
        {
          "output_type": "execute_result",
          "data": {
            "text/plain": [
              "range(1, 10)"
            ]
          },
          "metadata": {},
          "execution_count": 8
        }
      ]
    },
    {
      "cell_type": "code",
      "source": [
        "# range의 step 음수 값\n",
        "list(range(100, 9, -10))"
      ],
      "metadata": {
        "colab": {
          "base_uri": "https://localhost:8080/"
        },
        "id": "Zy-O9-QoPou6",
        "outputId": "d0886fa4-f6f9-4d15-d434-b1832ccc728a"
      },
      "execution_count": null,
      "outputs": [
        {
          "output_type": "execute_result",
          "data": {
            "text/plain": [
              "[100, 90, 80, 70, 60, 50, 40, 30, 20, 10]"
            ]
          },
          "metadata": {},
          "execution_count": 12
        }
      ]
    },
    {
      "cell_type": "markdown",
      "source": [
        "# function"
      ],
      "metadata": {
        "id": "UeDtscXdQhrs"
      }
    },
    {
      "cell_type": "code",
      "source": [
        "# function이라는 것이 왜 필요한지\n",
        "# 1번째 이유\n",
        "\n",
        "def hello():\n",
        "    x = 10 # 이 코드가 반복되니 이름을 hello라고 하고, 이 코드 자리에 hello를 놓자 -> 함수(function)\n",
        "    y = 20\n",
        "    print(x + y)\n",
        "\n",
        "hello()\n",
        "a = 10\n",
        "\n",
        "hello()\n",
        "b = 20\n",
        "\n",
        "hello()\n",
        "a + b\n",
        "\n",
        "hello()\n",
        "a - b\n",
        "\n",
        "hello()"
      ],
      "metadata": {
        "id": "mFLN2He85OOl"
      },
      "execution_count": null,
      "outputs": []
    },
    {
      "cell_type": "code",
      "source": [
        "# 2번째 이유\n",
        "# 수만줄의 코드도 함수로 쌓여있으면 구조를 파악하기 쉽다.\n",
        "# ex)\n",
        "# 땅파기()\n",
        "# 땅다지기()\n",
        "# 상하수도설치()\n",
        "# 벽돌쌓기()\n",
        "# 지붕올리기()\n",
        "# 내부인테리어()"
      ],
      "metadata": {
        "id": "JJuZ8RhQ6GhP"
      },
      "execution_count": null,
      "outputs": []
    },
    {
      "cell_type": "code",
      "source": [
        "# 3번째 이유\n",
        "# 알지 않아도 되는 코드를 들여다보지 않을 수 없다\n",
        "# -> 추상화 : 복잡한 내부 구현을 숨기고 필요한 필요한 기능만 외부에 노출시켜\n",
        "# 코드를 더 이해하기 쉽고 사용하기 편리하게 만드는 개념\n",
        "# ex) 운전 할 때 패달을 밟는다 해서 엔진을 뜯어볼 필요가 없다.\n",
        "# ex)\n",
        "# 땅파기()\n",
        "# 땅다지기()\n",
        "# 상하수도설치()\n",
        "# 벽돌쌓기()\n",
        "# 지붕올리기()\n",
        "# 내부인테리어()"
      ],
      "metadata": {
        "id": "ZPUapeJn6zKq"
      },
      "execution_count": null,
      "outputs": []
    },
    {
      "cell_type": "code",
      "source": [
        "def hello():\n",
        "    x = 10\n",
        "    y = 20\n",
        "    return x + y"
      ],
      "metadata": {
        "id": "9V5s4-fPQm9r"
      },
      "execution_count": null,
      "outputs": []
    },
    {
      "cell_type": "code",
      "source": [
        "# 파라미터와 아규먼트\n",
        "def xysum(x, y): # 함수를 정의\n",
        "    return x + y\n",
        "xysum(10, 20) # 함수를 호출"
      ],
      "metadata": {
        "id": "ojBi51cb7ocb"
      },
      "execution_count": null,
      "outputs": []
    },
    {
      "cell_type": "code",
      "source": [
        "# 파선아실(파라미터는 선언할 때, 아규먼트는 실행할 때)\n",
        "def xysum(x, y): # 함수를 정의 / x와 y는 파라미터\n",
        "    return x + y\n",
        "xysum(10, 20) # 함수를 호출 / 10과 20이 아규먼트"
      ],
      "metadata": {
        "id": "sqfOKqSF8V_k"
      },
      "execution_count": null,
      "outputs": []
    },
    {
      "cell_type": "code",
      "source": [
        "def xysum(x, y): # 함수를 정의\n",
        "    return x + y # 나를 호출한 곳에 그대로 이 값을 넣어줘라\n",
        "result = xysum(10, 20) + xysum(30, 40) + xysum(50, 60) # 함수를 호출\n",
        "# return : result = 10 + 20 + 30 + 40 + 50 + 60"
      ],
      "metadata": {
        "id": "6HoLjH1f9AhZ"
      },
      "execution_count": null,
      "outputs": []
    },
    {
      "cell_type": "code",
      "source": [
        "def xysum(x, y):\n",
        "    print(x + y)\n",
        "result = xysum(10, 20) + xysum(30, 40) + xysum(50, 60)"
      ],
      "metadata": {
        "colab": {
          "base_uri": "https://localhost:8080/",
          "height": 211
        },
        "id": "CO-strj89UGP",
        "outputId": "9573c668-9cc7-4050-809e-ff2e769198fc"
      },
      "execution_count": null,
      "outputs": [
        {
          "output_type": "stream",
          "name": "stdout",
          "text": [
            "30\n",
            "70\n"
          ]
        },
        {
          "output_type": "error",
          "ename": "TypeError",
          "evalue": "unsupported operand type(s) for +: 'NoneType' and 'NoneType'",
          "traceback": [
            "\u001b[0;31m---------------------------------------------------------------------------\u001b[0m",
            "\u001b[0;31mTypeError\u001b[0m                                 Traceback (most recent call last)",
            "\u001b[0;32m<ipython-input-50-63b983735c10>\u001b[0m in \u001b[0;36m<cell line: 0>\u001b[0;34m()\u001b[0m\n\u001b[1;32m      1\u001b[0m \u001b[0;32mdef\u001b[0m \u001b[0mxysum\u001b[0m\u001b[0;34m(\u001b[0m\u001b[0mx\u001b[0m\u001b[0;34m,\u001b[0m \u001b[0my\u001b[0m\u001b[0;34m)\u001b[0m\u001b[0;34m:\u001b[0m\u001b[0;34m\u001b[0m\u001b[0;34m\u001b[0m\u001b[0m\n\u001b[1;32m      2\u001b[0m     \u001b[0mprint\u001b[0m\u001b[0;34m(\u001b[0m\u001b[0mx\u001b[0m \u001b[0;34m+\u001b[0m \u001b[0my\u001b[0m\u001b[0;34m)\u001b[0m\u001b[0;34m\u001b[0m\u001b[0;34m\u001b[0m\u001b[0m\n\u001b[0;32m----> 3\u001b[0;31m \u001b[0mresult\u001b[0m \u001b[0;34m=\u001b[0m \u001b[0mxysum\u001b[0m\u001b[0;34m(\u001b[0m\u001b[0;36m10\u001b[0m\u001b[0;34m,\u001b[0m \u001b[0;36m20\u001b[0m\u001b[0;34m)\u001b[0m \u001b[0;34m+\u001b[0m \u001b[0mxysum\u001b[0m\u001b[0;34m(\u001b[0m\u001b[0;36m30\u001b[0m\u001b[0;34m,\u001b[0m \u001b[0;36m40\u001b[0m\u001b[0;34m)\u001b[0m \u001b[0;34m+\u001b[0m \u001b[0mxysum\u001b[0m\u001b[0;34m(\u001b[0m\u001b[0;36m50\u001b[0m\u001b[0;34m,\u001b[0m \u001b[0;36m60\u001b[0m\u001b[0;34m)\u001b[0m\u001b[0;34m\u001b[0m\u001b[0;34m\u001b[0m\u001b[0m\n\u001b[0m",
            "\u001b[0;31mTypeError\u001b[0m: unsupported operand type(s) for +: 'NoneType' and 'NoneType'"
          ]
        }
      ]
    },
    {
      "cell_type": "code",
      "source": [
        "# NoneType은 print를 써야한다\n",
        "def a(x, y):\n",
        "    z = x + y\n",
        "print(a(10, 20))"
      ],
      "metadata": {
        "colab": {
          "base_uri": "https://localhost:8080/"
        },
        "id": "J29Mu2Jx9px4",
        "outputId": "242b3f35-ae7e-4ff1-a2de-1c78ba79078c"
      },
      "execution_count": null,
      "outputs": [
        {
          "output_type": "stream",
          "name": "stdout",
          "text": [
            "None\n"
          ]
        }
      ]
    },
    {
      "cell_type": "code",
      "source": [
        "# 위 코드 = 현재 코드\n",
        "def a(x, y):\n",
        "    z = x + y\n",
        "    return None\n",
        "print(a(10, 20)) # ->print(None)"
      ],
      "metadata": {
        "colab": {
          "base_uri": "https://localhost:8080/"
        },
        "id": "Esv4Qf1m96hZ",
        "outputId": "1a9cb5be-d360-4fc5-ffda-a6ffffb6aa48"
      },
      "execution_count": null,
      "outputs": [
        {
          "output_type": "stream",
          "name": "stdout",
          "text": [
            "None\n"
          ]
        }
      ]
    },
    {
      "cell_type": "code",
      "source": [
        "# 파라미터가 있는 함수\n",
        "def hello(a):\n",
        "    return a"
      ],
      "metadata": {
        "id": "x2G-6XkV--yA"
      },
      "execution_count": null,
      "outputs": []
    },
    {
      "cell_type": "code",
      "source": [
        "# 파라미터가 없는 함수\n",
        "def hello():\n",
        "    return 'hello world'"
      ],
      "metadata": {
        "id": "M-xE1mzg_G9T"
      },
      "execution_count": null,
      "outputs": []
    },
    {
      "cell_type": "code",
      "source": [
        "# 리턴값이 있는 함수\n",
        "def add(a, b):\n",
        "    return a + b"
      ],
      "metadata": {
        "id": "dUl32YJt_Ir3"
      },
      "execution_count": null,
      "outputs": []
    },
    {
      "cell_type": "code",
      "source": [
        "# 리턴값이 없는 함수\n",
        "def add(a, b):\n",
        "    print(a + b)"
      ],
      "metadata": {
        "id": "2Fs3OSgm_KtB"
      },
      "execution_count": null,
      "outputs": []
    },
    {
      "cell_type": "code",
      "source": [
        "# 문제 1\n",
        "# 2x + 15 방정식, x는 10이라고 주어졌을 때, y값이 얼마인지 구하는 함수를 만드세요\n",
        "def solution(x):\n",
        "    y = 2 * x + 15\n",
        "    return y\n",
        "\n",
        "solution(10)"
      ],
      "metadata": {
        "colab": {
          "base_uri": "https://localhost:8080/"
        },
        "id": "e9uBLkbo_9PL",
        "outputId": "a54b3e7e-4e64-447d-c4aa-20417dd10d0a"
      },
      "execution_count": null,
      "outputs": [
        {
          "output_type": "stream",
          "name": "stdout",
          "text": [
            "35\n"
          ]
        }
      ]
    },
    {
      "cell_type": "code",
      "source": [
        "# 실제 모의 주식 그래프\n",
        "import random\n",
        "i = [15, 17, 19, 21, 23, 25, 27, 29, 31, 33]\n",
        "result = []\n",
        "for j in i:\n",
        "    result = result + [j + random.randint(-5, 5)]\n",
        "result"
      ],
      "metadata": {
        "colab": {
          "base_uri": "https://localhost:8080/"
        },
        "id": "qgLJj-I5KeEn",
        "outputId": "0c47b30e-1d0e-460a-ae86-61623da9f177"
      },
      "execution_count": null,
      "outputs": [
        {
          "output_type": "execute_result",
          "data": {
            "text/plain": [
              "[10, 14, 19, 16, 19, 24, 22, 29, 32, 34]"
            ]
          },
          "metadata": {},
          "execution_count": 63
        }
      ]
    },
    {
      "cell_type": "code",
      "source": [
        "# 문제 2\n",
        "# [10, 20, 30] + [1, 2, 3]이라고 했을 때 두 리스트를 요소별로 더하는 함수를 만드세요.\n",
        "# def solution(a, b):\n",
        "#     result = []\n",
        "#     for i in range(len(a)): range는 감점이 되는 경우가 많다\n",
        "#         result.append(a[i] + b[i])\n",
        "#     return result\n",
        "\n",
        "# print(solution([10, 20, 30], [1, 2, 3]))\n",
        "def solution(a, b):\n",
        "    for i, j in enumerate(a):\n",
        "        a[i] = j + b[i]\n",
        "    return a\n",
        "solution([10, 20, 30], [1, 2, 3])\n",
        "\n",
        "# def solution(a, b):\n",
        "#     return list(map(sum, (zip([10, 20, 30], [1, 2, 3]))))\n",
        "# solution([10, 20, 30], [1, 2, 3])"
      ],
      "metadata": {
        "colab": {
          "base_uri": "https://localhost:8080/"
        },
        "id": "xLZzoHGbAOsl",
        "outputId": "aeac792a-b41f-4d5e-81b4-9df3c3795ae7"
      },
      "execution_count": null,
      "outputs": [
        {
          "output_type": "execute_result",
          "data": {
            "text/plain": [
              "[11, 22, 33]"
            ]
          },
          "metadata": {},
          "execution_count": 64
        }
      ]
    },
    {
      "cell_type": "code",
      "source": [
        "# 문제 3\n",
        "# 리스트의 모든 요소에 특정 숫자를 곱하는 함수를 만드세요\n",
        "# ex) [1, 2, 3, 4] * 2 = [2, 4, 6, 8]\n",
        "def solution(matrix, multiplier):\n",
        "    result = []\n",
        "    for i in matrix:\n",
        "        result.append(i * multiplier)\n",
        "    return result\n",
        "\n",
        "print(solution([1, 2, 3, 4], 2))\n",
        "\n",
        "# 위 코드보다 가독성이 떨어짐\n",
        "# def solution(matrix, multiplier):\n",
        "#     return [i * multiplier for i in matrix]\n",
        "# print(solution([1, 2, 3, 4], 2))"
      ],
      "metadata": {
        "colab": {
          "base_uri": "https://localhost:8080/"
        },
        "id": "Mhl-2VwgA9v6",
        "outputId": "d93b40bd-0376-42c2-e357-2401ca0c0a30"
      },
      "execution_count": null,
      "outputs": [
        {
          "output_type": "stream",
          "name": "stdout",
          "text": [
            "[2, 4, 6, 8]\n"
          ]
        }
      ]
    },
    {
      "cell_type": "code",
      "source": [
        "s = []\n",
        "for i in range(1, 10, 2):\n",
        "    s.append(i)\n",
        "s\n",
        "\n",
        "# 같은 결과\n",
        "# [i for i in range(1, 10, 2)]"
      ],
      "metadata": {
        "colab": {
          "base_uri": "https://localhost:8080/"
        },
        "id": "YonvHBo1PS9l",
        "outputId": "aaf400e1-3889-4862-a93b-d9986abd5d73"
      },
      "execution_count": null,
      "outputs": [
        {
          "output_type": "execute_result",
          "data": {
            "text/plain": [
              "[1, 3, 5, 7, 9]"
            ]
          },
          "metadata": {},
          "execution_count": 65
        }
      ]
    },
    {
      "cell_type": "code",
      "source": [
        "# 더러운 코드 (code smell) 사용 X\n",
        "# 가독성이 떨어짐\n",
        "[f'{i} X {j} = {i * j}' for i in range(2, 10) for j in range(1, 10)]"
      ],
      "metadata": {
        "colab": {
          "base_uri": "https://localhost:8080/"
        },
        "collapsed": true,
        "id": "zUtwd4fZPsFm",
        "outputId": "4fef8cb1-2e91-4107-9998-ccfae3482e52"
      },
      "execution_count": null,
      "outputs": [
        {
          "output_type": "execute_result",
          "data": {
            "text/plain": [
              "['2 X 1 = 2',\n",
              " '2 X 2 = 4',\n",
              " '2 X 3 = 6',\n",
              " '2 X 4 = 8',\n",
              " '2 X 5 = 10',\n",
              " '2 X 6 = 12',\n",
              " '2 X 7 = 14',\n",
              " '2 X 8 = 16',\n",
              " '2 X 9 = 18',\n",
              " '3 X 1 = 3',\n",
              " '3 X 2 = 6',\n",
              " '3 X 3 = 9',\n",
              " '3 X 4 = 12',\n",
              " '3 X 5 = 15',\n",
              " '3 X 6 = 18',\n",
              " '3 X 7 = 21',\n",
              " '3 X 8 = 24',\n",
              " '3 X 9 = 27',\n",
              " '4 X 1 = 4',\n",
              " '4 X 2 = 8',\n",
              " '4 X 3 = 12',\n",
              " '4 X 4 = 16',\n",
              " '4 X 5 = 20',\n",
              " '4 X 6 = 24',\n",
              " '4 X 7 = 28',\n",
              " '4 X 8 = 32',\n",
              " '4 X 9 = 36',\n",
              " '5 X 1 = 5',\n",
              " '5 X 2 = 10',\n",
              " '5 X 3 = 15',\n",
              " '5 X 4 = 20',\n",
              " '5 X 5 = 25',\n",
              " '5 X 6 = 30',\n",
              " '5 X 7 = 35',\n",
              " '5 X 8 = 40',\n",
              " '5 X 9 = 45',\n",
              " '6 X 1 = 6',\n",
              " '6 X 2 = 12',\n",
              " '6 X 3 = 18',\n",
              " '6 X 4 = 24',\n",
              " '6 X 5 = 30',\n",
              " '6 X 6 = 36',\n",
              " '6 X 7 = 42',\n",
              " '6 X 8 = 48',\n",
              " '6 X 9 = 54',\n",
              " '7 X 1 = 7',\n",
              " '7 X 2 = 14',\n",
              " '7 X 3 = 21',\n",
              " '7 X 4 = 28',\n",
              " '7 X 5 = 35',\n",
              " '7 X 6 = 42',\n",
              " '7 X 7 = 49',\n",
              " '7 X 8 = 56',\n",
              " '7 X 9 = 63',\n",
              " '8 X 1 = 8',\n",
              " '8 X 2 = 16',\n",
              " '8 X 3 = 24',\n",
              " '8 X 4 = 32',\n",
              " '8 X 5 = 40',\n",
              " '8 X 6 = 48',\n",
              " '8 X 7 = 56',\n",
              " '8 X 8 = 64',\n",
              " '8 X 9 = 72',\n",
              " '9 X 1 = 9',\n",
              " '9 X 2 = 18',\n",
              " '9 X 3 = 27',\n",
              " '9 X 4 = 36',\n",
              " '9 X 5 = 45',\n",
              " '9 X 6 = 54',\n",
              " '9 X 7 = 63',\n",
              " '9 X 8 = 72',\n",
              " '9 X 9 = 81']"
            ]
          },
          "metadata": {},
          "execution_count": 66
        }
      ]
    },
    {
      "cell_type": "code",
      "source": [
        "# 문제 4\n",
        "# 프로그래머스(카카오 코딩 테스트 보는 공간)에 문제 하나 풀어보시오.\n",
        "# https://school.programmers.co.kr/learn/courses/30/lessons/181928\n",
        "def solution(num_list):\n",
        "    a, b = '', ''\n",
        "    for i in num_list:\n",
        "        if i % 2 == 0:\n",
        "            a += str(i)\n",
        "        else:\n",
        "            b += str(i)\n",
        "    answer = int(a) + int(b)\n",
        "    return answer\n",
        "solution([3, 4, 5, 2, 1])"
      ],
      "metadata": {
        "colab": {
          "base_uri": "https://localhost:8080/"
        },
        "id": "2yiEvS5nBaFN",
        "outputId": "d1b2312f-881a-45b5-839f-c3bbf752af5e"
      },
      "execution_count": null,
      "outputs": [
        {
          "output_type": "execute_result",
          "data": {
            "text/plain": [
              "393"
            ]
          },
          "metadata": {},
          "execution_count": 67
        }
      ]
    },
    {
      "cell_type": "code",
      "source": [
        "# 파라미터에 기본값이 정해져 있는 경우\n",
        "def add(x = 10, y = 20):\n",
        "    return x + y\n",
        "add()"
      ],
      "metadata": {
        "colab": {
          "base_uri": "https://localhost:8080/"
        },
        "id": "z0LJUlaVUdJT",
        "outputId": "35c2abdc-c983-4cf6-d93d-1a9bd513021e"
      },
      "execution_count": null,
      "outputs": [
        {
          "output_type": "execute_result",
          "data": {
            "text/plain": [
              "30"
            ]
          },
          "metadata": {},
          "execution_count": 68
        }
      ]
    },
    {
      "cell_type": "code",
      "source": [
        "# 지역변수, 전역변수\n",
        "x = 10\n",
        "def hello():\n",
        "    print(x) # 밖에 있는 변수는 읽기 가능\n",
        "hello()"
      ],
      "metadata": {
        "colab": {
          "base_uri": "https://localhost:8080/"
        },
        "id": "ACHXGd8rVtln",
        "outputId": "8de491d2-5782-430b-a7c9-61337697ec48"
      },
      "execution_count": null,
      "outputs": [
        {
          "output_type": "stream",
          "name": "stdout",
          "text": [
            "10\n"
          ]
        }
      ]
    },
    {
      "cell_type": "code",
      "source": [
        "x = 10\n",
        "def hello():\n",
        "    x += 1 # 밖에 있는 변수는 수정 불가능\n",
        "hello()"
      ],
      "metadata": {
        "colab": {
          "base_uri": "https://localhost:8080/",
          "height": 280
        },
        "id": "Sq4NkzNmWclQ",
        "outputId": "7e860297-5252-400d-b96d-94eecc715abf"
      },
      "execution_count": null,
      "outputs": [
        {
          "output_type": "error",
          "ename": "UnboundLocalError",
          "evalue": "cannot access local variable 'x' where it is not associated with a value",
          "traceback": [
            "\u001b[0;31m---------------------------------------------------------------------------\u001b[0m",
            "\u001b[0;31mUnboundLocalError\u001b[0m                         Traceback (most recent call last)",
            "\u001b[0;32m<ipython-input-70-15302821d1ef>\u001b[0m in \u001b[0;36m<cell line: 0>\u001b[0;34m()\u001b[0m\n\u001b[1;32m      2\u001b[0m \u001b[0;32mdef\u001b[0m \u001b[0mhello\u001b[0m\u001b[0;34m(\u001b[0m\u001b[0;34m)\u001b[0m\u001b[0;34m:\u001b[0m\u001b[0;34m\u001b[0m\u001b[0;34m\u001b[0m\u001b[0m\n\u001b[1;32m      3\u001b[0m     \u001b[0mx\u001b[0m \u001b[0;34m+=\u001b[0m \u001b[0;36m1\u001b[0m \u001b[0;31m# 밖에 있는 변수는 수정 불가능\u001b[0m\u001b[0;34m\u001b[0m\u001b[0;34m\u001b[0m\u001b[0m\n\u001b[0;32m----> 4\u001b[0;31m \u001b[0mhello\u001b[0m\u001b[0;34m(\u001b[0m\u001b[0;34m)\u001b[0m\u001b[0;34m\u001b[0m\u001b[0;34m\u001b[0m\u001b[0m\n\u001b[0m",
            "\u001b[0;32m<ipython-input-70-15302821d1ef>\u001b[0m in \u001b[0;36mhello\u001b[0;34m()\u001b[0m\n\u001b[1;32m      1\u001b[0m \u001b[0mx\u001b[0m \u001b[0;34m=\u001b[0m \u001b[0;36m10\u001b[0m\u001b[0;34m\u001b[0m\u001b[0;34m\u001b[0m\u001b[0m\n\u001b[1;32m      2\u001b[0m \u001b[0;32mdef\u001b[0m \u001b[0mhello\u001b[0m\u001b[0;34m(\u001b[0m\u001b[0;34m)\u001b[0m\u001b[0;34m:\u001b[0m\u001b[0;34m\u001b[0m\u001b[0;34m\u001b[0m\u001b[0m\n\u001b[0;32m----> 3\u001b[0;31m     \u001b[0mx\u001b[0m \u001b[0;34m+=\u001b[0m \u001b[0;36m1\u001b[0m \u001b[0;31m# 밖에 있는 변수는 수정 불가능\u001b[0m\u001b[0;34m\u001b[0m\u001b[0;34m\u001b[0m\u001b[0m\n\u001b[0m\u001b[1;32m      4\u001b[0m \u001b[0mhello\u001b[0m\u001b[0;34m(\u001b[0m\u001b[0;34m)\u001b[0m\u001b[0;34m\u001b[0m\u001b[0;34m\u001b[0m\u001b[0m\n",
            "\u001b[0;31mUnboundLocalError\u001b[0m: cannot access local variable 'x' where it is not associated with a value"
          ]
        }
      ]
    },
    {
      "cell_type": "code",
      "source": [
        "x = 10 #(전역변수)\n",
        "def hello():\n",
        "    x = 100 # 밖에 있는 변수 수정 불가능(지역변수)\n",
        "    #return None\n",
        "hello() # return None으로 반환 하는 즉시 지역변수는 휘발된다\n",
        "print(x)"
      ],
      "metadata": {
        "colab": {
          "base_uri": "https://localhost:8080/"
        },
        "id": "syCxQ4dCWn-A",
        "outputId": "d9728d01-2a54-4eea-d342-f25c7838a8f7"
      },
      "execution_count": null,
      "outputs": [
        {
          "output_type": "stream",
          "name": "stdout",
          "text": [
            "10\n"
          ]
        }
      ]
    },
    {
      "cell_type": "code",
      "source": [
        "x = 10\n",
        "def hello(input_x):\n",
        "    input_x += 10\n",
        "    return input_x\n",
        "x = hello(x)\n",
        "print(x)"
      ],
      "metadata": {
        "colab": {
          "base_uri": "https://localhost:8080/"
        },
        "id": "IoFno13QXiQG",
        "outputId": "e4172723-681c-4052-a191-25a43048d40e"
      },
      "execution_count": null,
      "outputs": [
        {
          "output_type": "stream",
          "name": "stdout",
          "text": [
            "20\n"
          ]
        }
      ]
    },
    {
      "cell_type": "code",
      "source": [
        "# 아래 코드는 대부분 안 좋은 코드\n",
        "x = 10\n",
        "def hello():\n",
        "    # global x -> 쓰면 안된다\n",
        "    x += 100\n",
        "hello()\n",
        "print(x)"
      ],
      "metadata": {
        "id": "aZBwdPs4YKl0"
      },
      "execution_count": null,
      "outputs": []
    },
    {
      "cell_type": "code",
      "source": [
        "def add(a, b):\n",
        "    z = a + b\n",
        "    print(locals()) # locals -> 메모리 효율 최적화에 쓰인다\n",
        "    return z\n",
        "add(10, 20)"
      ],
      "metadata": {
        "colab": {
          "base_uri": "https://localhost:8080/"
        },
        "id": "JtzLO3o7Y-Mz",
        "outputId": "d2a0886f-e7fa-4ace-e329-c5aa0658ad74"
      },
      "execution_count": null,
      "outputs": [
        {
          "output_type": "stream",
          "name": "stdout",
          "text": [
            "{'a': 10, 'b': 20, 'z': 30}\n"
          ]
        },
        {
          "output_type": "execute_result",
          "data": {
            "text/plain": [
              "30"
            ]
          },
          "metadata": {},
          "execution_count": 75
        }
      ]
    },
    {
      "cell_type": "code",
      "source": [
        "print(print('hello')) # hello는 print라는 함수의 아규먼트\n",
        "# print의 return 값은 None"
      ],
      "metadata": {
        "colab": {
          "base_uri": "https://localhost:8080/"
        },
        "id": "4kXNxOt1-DBp",
        "outputId": "7d810c0b-7579-41ad-92d5-69b22a30fec3"
      },
      "execution_count": null,
      "outputs": [
        {
          "output_type": "stream",
          "name": "stdout",
          "text": [
            "hello\n",
            "None\n"
          ]
        }
      ]
    },
    {
      "cell_type": "code",
      "source": [
        "# hello든 print든 변수. 함수의 이름은 변수."
      ],
      "metadata": {
        "id": "RFhYd2CwQvX0"
      },
      "execution_count": null,
      "outputs": []
    },
    {
      "cell_type": "code",
      "source": [
        "a = print\n",
        "a('hello world')"
      ],
      "metadata": {
        "colab": {
          "base_uri": "https://localhost:8080/"
        },
        "id": "esswkYhZQ7Oa",
        "outputId": "51fb5605-c949-49d9-9a49-92c8edb29481"
      },
      "execution_count": null,
      "outputs": [
        {
          "output_type": "stream",
          "name": "stdout",
          "text": [
            "hello world\n"
          ]
        }
      ]
    },
    {
      "cell_type": "code",
      "source": [
        "l = [a, a, a, a, a]\n",
        "l[0]('hello')"
      ],
      "metadata": {
        "colab": {
          "base_uri": "https://localhost:8080/"
        },
        "id": "z5j3atLqRDXy",
        "outputId": "bbbc8865-2481-403a-9bfb-d52e981483f2"
      },
      "execution_count": null,
      "outputs": [
        {
          "output_type": "stream",
          "name": "stdout",
          "text": [
            "hello\n"
          ]
        }
      ]
    },
    {
      "cell_type": "markdown",
      "source": [
        "# 변수"
      ],
      "metadata": {
        "id": "B1CauPe6Rymc"
      }
    },
    {
      "cell_type": "code",
      "source": [
        "a = 10\n",
        "b = a\n",
        "c = b\n",
        "c\n",
        "# 화살표의 방향은 a->10, b->10, c->10"
      ],
      "metadata": {
        "colab": {
          "base_uri": "https://localhost:8080/"
        },
        "id": "_Xj68dYPR1d4",
        "outputId": "6ddef0b3-ac4c-4301-9328-247c5a4e0d9d"
      },
      "execution_count": null,
      "outputs": [
        {
          "output_type": "execute_result",
          "data": {
            "text/plain": [
              "10"
            ]
          },
          "metadata": {},
          "execution_count": 18
        }
      ]
    },
    {
      "cell_type": "code",
      "source": [
        "b = 100\n",
        "c"
      ],
      "metadata": {
        "colab": {
          "base_uri": "https://localhost:8080/"
        },
        "id": "QEDonaLPSh1g",
        "outputId": "ab841457-9492-4e74-f572-0ffa00318bf9"
      },
      "execution_count": null,
      "outputs": [
        {
          "output_type": "execute_result",
          "data": {
            "text/plain": [
              "10"
            ]
          },
          "metadata": {},
          "execution_count": 19
        }
      ]
    },
    {
      "cell_type": "code",
      "source": [
        "a = [1, 2, 3]\n",
        "b = a\n",
        "id(a), id(b)\n",
        "a.append(10)\n",
        "b"
      ],
      "metadata": {
        "colab": {
          "base_uri": "https://localhost:8080/"
        },
        "id": "BoXppGX8kJnF",
        "outputId": "4ef75bad-661e-413b-e266-88e34a203722"
      },
      "execution_count": null,
      "outputs": [
        {
          "output_type": "execute_result",
          "data": {
            "text/plain": [
              "[1, 2, 3, 10]"
            ]
          },
          "metadata": {},
          "execution_count": 47
        }
      ]
    },
    {
      "cell_type": "markdown",
      "source": [
        "# type, dir, id\n",
        "- type은 앞으로도 자주 사용된다. 왜냐하면 우리가 앞으로 사용 할 데이터 자료형은 기본 자료형이 아닌 경우가 많기 때문이다.\n",
        "- dir은 해당 자료형에 있는 속성들을 파악하기 좋다.\n",
        "- id는 해당 자료형이 무엇을 가리키고 있는지 확인하기 좋다."
      ],
      "metadata": {
        "id": "qM2MeQF_T-HH"
      }
    },
    {
      "cell_type": "code",
      "source": [
        "a = [10, 20, 30 ,40]\n",
        "print(type(a)) # print와 print를 안 쓰는 것의 차이 :"
      ],
      "metadata": {
        "colab": {
          "base_uri": "https://localhost:8080/"
        },
        "id": "DgVUgwNzUAJV",
        "outputId": "46a9c15e-8327-4ba7-b1bd-a3731dba315c"
      },
      "execution_count": null,
      "outputs": [
        {
          "output_type": "stream",
          "name": "stdout",
          "text": [
            "<class 'list'>\n"
          ]
        }
      ]
    },
    {
      "cell_type": "code",
      "source": [
        "print(type(hello))"
      ],
      "metadata": {
        "colab": {
          "base_uri": "https://localhost:8080/"
        },
        "id": "vjxK79JEUgZR",
        "outputId": "cbd3fce2-1b7e-4e12-8324-86d5850dc85f"
      },
      "execution_count": null,
      "outputs": [
        {
          "output_type": "stream",
          "name": "stdout",
          "text": [
            "<class 'function'>\n"
          ]
        }
      ]
    },
    {
      "cell_type": "code",
      "source": [
        "a = 10\n",
        "print(type(a))"
      ],
      "metadata": {
        "colab": {
          "base_uri": "https://localhost:8080/"
        },
        "id": "nMdSysIJUouQ",
        "outputId": "31c6edbd-2556-43a9-9164-30b082dd8ec6"
      },
      "execution_count": null,
      "outputs": [
        {
          "output_type": "stream",
          "name": "stdout",
          "text": [
            "<class 'int'>\n"
          ]
        }
      ]
    },
    {
      "cell_type": "code",
      "source": [
        "print(a)"
      ],
      "metadata": {
        "colab": {
          "base_uri": "https://localhost:8080/"
        },
        "id": "6FknGhWcUroJ",
        "outputId": "1835752d-9f65-4023-d3c2-332ad22ca7a8"
      },
      "execution_count": null,
      "outputs": [
        {
          "output_type": "stream",
          "name": "stdout",
          "text": [
            "10\n"
          ]
        }
      ]
    },
    {
      "cell_type": "code",
      "source": [
        "# 타입 확인이 이만큼 중요하다는 것을 보여주기 위한 예제 2개\n",
        "# ex1) 10으로 보인다고 해서 int형이라고 생각하지 않기\n",
        "import numpy as np\n",
        "data = np.array(1)\n",
        "print(data)\n",
        "print(type(data))"
      ],
      "metadata": {
        "colab": {
          "base_uri": "https://localhost:8080/"
        },
        "id": "W9iwU77_VBB4",
        "outputId": "c0cf20ea-ccd7-4a6b-83e4-005aa05c2843"
      },
      "execution_count": null,
      "outputs": [
        {
          "output_type": "stream",
          "name": "stdout",
          "text": [
            "1\n",
            "<class 'numpy.ndarray'>\n"
          ]
        }
      ]
    },
    {
      "cell_type": "code",
      "source": [
        "# ex2) 타입을 확인해야 하는 이유는 기본 연산이 다르기 때문이다.\n",
        "print([1, 2, 3] + [4, 5, 6])\n",
        "print(np.array([1, 2, 3] + np.array([4, 5, 6])))"
      ],
      "metadata": {
        "colab": {
          "base_uri": "https://localhost:8080/"
        },
        "id": "rfj9fQPEVw9I",
        "outputId": "b4bd480a-8399-428e-87df-96769dd4c020"
      },
      "execution_count": null,
      "outputs": [
        {
          "output_type": "stream",
          "name": "stdout",
          "text": [
            "[1, 2, 3, 4, 5, 6]\n",
            "[5 7 9]\n"
          ]
        }
      ]
    },
    {
      "cell_type": "code",
      "source": [
        "l = [1, 2, 3, 4]\n",
        "dir(l) # 메서드 + 멤버"
      ],
      "metadata": {
        "colab": {
          "base_uri": "https://localhost:8080/"
        },
        "id": "UcuhHni5WgHp",
        "outputId": "d76f62cc-b9c0-4a44-b0d2-b26469b1ca37"
      },
      "execution_count": null,
      "outputs": [
        {
          "output_type": "execute_result",
          "data": {
            "text/plain": [
              "['__add__',\n",
              " '__class__',\n",
              " '__class_getitem__',\n",
              " '__contains__',\n",
              " '__delattr__',\n",
              " '__delitem__',\n",
              " '__dir__',\n",
              " '__doc__',\n",
              " '__eq__',\n",
              " '__format__',\n",
              " '__ge__',\n",
              " '__getattribute__',\n",
              " '__getitem__',\n",
              " '__getstate__',\n",
              " '__gt__',\n",
              " '__hash__',\n",
              " '__iadd__',\n",
              " '__imul__',\n",
              " '__init__',\n",
              " '__init_subclass__',\n",
              " '__iter__',\n",
              " '__le__',\n",
              " '__len__',\n",
              " '__lt__',\n",
              " '__mul__',\n",
              " '__ne__',\n",
              " '__new__',\n",
              " '__reduce__',\n",
              " '__reduce_ex__',\n",
              " '__repr__',\n",
              " '__reversed__',\n",
              " '__rmul__',\n",
              " '__setattr__',\n",
              " '__setitem__',\n",
              " '__sizeof__',\n",
              " '__str__',\n",
              " '__subclasshook__',\n",
              " 'append',\n",
              " 'clear',\n",
              " 'copy',\n",
              " 'count',\n",
              " 'extend',\n",
              " 'index',\n",
              " 'insert',\n",
              " 'pop',\n",
              " 'remove',\n",
              " 'reverse',\n",
              " 'sort']"
            ]
          },
          "metadata": {},
          "execution_count": 29
        }
      ]
    },
    {
      "cell_type": "code",
      "source": [
        "# 빌트인 펑션이 중요한 이유는 앞으로 만날 자료형들은 새롭게 만날 자료형들이라서.\n",
        "# ex)\n",
        "import numpy as np\n",
        "data = np.array([[10, 20, 30], [40, 50, 60]])\n",
        "dir(data)\n",
        "# 아래 목록만 봐도 어떤 자료형인지 짐작 할 수 있고 원하는 메서드를 바로 발견할 수 있다.\n",
        "\n",
        "print(data.T)"
      ],
      "metadata": {
        "colab": {
          "base_uri": "https://localhost:8080/"
        },
        "id": "SUZPuiFSX6xX",
        "outputId": "86ab87f8-24cf-4d20-af66-202fef09b207"
      },
      "execution_count": null,
      "outputs": [
        {
          "output_type": "stream",
          "name": "stdout",
          "text": [
            "[[10 40]\n",
            " [20 50]\n",
            " [30 60]]\n"
          ]
        }
      ]
    },
    {
      "cell_type": "code",
      "source": [
        "# id 설명\n",
        "a = 10\n",
        "b = a\n",
        "c = b\n",
        "# 화살표 방향\n",
        "id(a), id(b), id(c)\n",
        "# id는 해당 변수가 가리키고 있는 최종 목적지"
      ],
      "metadata": {
        "colab": {
          "base_uri": "https://localhost:8080/"
        },
        "id": "Pucw0nLYdLZH",
        "outputId": "cadf3321-4fff-43ae-ef31-71b733f26e56"
      },
      "execution_count": null,
      "outputs": [
        {
          "output_type": "execute_result",
          "data": {
            "text/plain": [
              "(10751144, 10751144, 10751144)"
            ]
          },
          "metadata": {},
          "execution_count": 34
        }
      ]
    },
    {
      "cell_type": "code",
      "source": [
        "a = 10\n",
        "b = 10\n",
        "id(a), id(b)\n",
        "# 다른 언어에서는 이 값이 다르다\n",
        "# 파이썬에서는 메모리 효율을 높이기 위해서 자주 사용되는 숫자들만 같은 값이 나오게 해놨다(캐싱)"
      ],
      "metadata": {
        "colab": {
          "base_uri": "https://localhost:8080/"
        },
        "id": "LctL7-dbdrzD",
        "outputId": "bbb6a802-9bc0-425e-bfb3-19c0df4eb468"
      },
      "execution_count": null,
      "outputs": [
        {
          "output_type": "execute_result",
          "data": {
            "text/plain": [
              "(10751144, 10751144)"
            ]
          },
          "metadata": {},
          "execution_count": 35
        }
      ]
    },
    {
      "cell_type": "code",
      "source": [
        "a = 10000\n",
        "b = 10000\n",
        "id(a), id(b)"
      ],
      "metadata": {
        "colab": {
          "base_uri": "https://localhost:8080/"
        },
        "id": "XTTuv6ycebSC",
        "outputId": "9d015ec4-2cc5-4d12-b942-b71fc8b01c0d"
      },
      "execution_count": null,
      "outputs": [
        {
          "output_type": "execute_result",
          "data": {
            "text/plain": [
              "(139805578813264, 139805578819600)"
            ]
          },
          "metadata": {},
          "execution_count": 36
        }
      ]
    },
    {
      "cell_type": "markdown",
      "source": [
        "# print와 print를 안하는 것의 차이"
      ],
      "metadata": {
        "id": "R4SpsuWqc0Is"
      }
    },
    {
      "cell_type": "code",
      "source": [
        "class Customint:\n",
        "    def __repr__(self):\n",
        "        return 'hello'\n",
        "    def __str__(self):\n",
        "        return 'hello world'\n",
        "    def __len__(self):\n",
        "        return 100"
      ],
      "metadata": {
        "id": "kuHSAZ5me_V6"
      },
      "execution_count": null,
      "outputs": []
    },
    {
      "cell_type": "code",
      "source": [
        "a = Customint()\n",
        "a"
      ],
      "metadata": {
        "colab": {
          "base_uri": "https://localhost:8080/"
        },
        "id": "WQslHghxfZl9",
        "outputId": "589da73f-e6e5-4ab7-cd68-176896199894"
      },
      "execution_count": null,
      "outputs": [
        {
          "output_type": "execute_result",
          "data": {
            "text/plain": [
              "hello"
            ]
          },
          "metadata": {},
          "execution_count": 39
        }
      ]
    },
    {
      "cell_type": "code",
      "source": [
        "print(a)"
      ],
      "metadata": {
        "colab": {
          "base_uri": "https://localhost:8080/"
        },
        "id": "6tH5Dwmtffzh",
        "outputId": "e7a687e3-7f71-4c86-f85f-d803371cb5bf"
      },
      "execution_count": null,
      "outputs": [
        {
          "output_type": "stream",
          "name": "stdout",
          "text": [
            "hello world\n"
          ]
        }
      ]
    },
    {
      "cell_type": "code",
      "source": [
        "a = 10\n",
        "print(type(a))\n",
        "print(a)\n"
      ],
      "metadata": {
        "colab": {
          "base_uri": "https://localhost:8080/"
        },
        "id": "Q3HO-aqQflQE",
        "outputId": "4b5f8cc6-fec7-40fa-c5c3-e730c190c9e0"
      },
      "execution_count": null,
      "outputs": [
        {
          "output_type": "stream",
          "name": "stdout",
          "text": [
            "<class 'int'>\n",
            "10\n"
          ]
        }
      ]
    },
    {
      "cell_type": "code",
      "source": [
        "class Customint:\n",
        "    def __repr__(self):\n",
        "        return 'hello'\n",
        "test = Customint()\n",
        "test\n",
        "print(test)"
      ],
      "metadata": {
        "colab": {
          "base_uri": "https://localhost:8080/"
        },
        "id": "n5wlzP0Xf3MH",
        "outputId": "c0e715fd-5fa2-461c-a36f-074d97d9c16f"
      },
      "execution_count": null,
      "outputs": [
        {
          "output_type": "stream",
          "name": "stdout",
          "text": [
            "hello\n"
          ]
        }
      ]
    },
    {
      "cell_type": "code",
      "source": [
        "# print(o) -> 해당 인스턴스에 __str__ 호출\n",
        "# print(x) -> 해당 인스턴스에 __repr__ 호출"
      ],
      "metadata": {
        "id": "hVuuTxhohJyJ"
      },
      "execution_count": null,
      "outputs": []
    },
    {
      "cell_type": "code",
      "source": [
        "a = 10\n",
        "dir(a)\n",
        "# a.__repr__() -> print(x) 출력했을 때 실행되는 함수\n",
        "# a.__str__() -> print(o) 출력했을 때 실행되는 함수"
      ],
      "metadata": {
        "colab": {
          "base_uri": "https://localhost:8080/",
          "height": 35
        },
        "id": "aOHUHeztjCHD",
        "outputId": "dbb97f94-ab95-4a6e-b854-34fc54f9771a"
      },
      "execution_count": null,
      "outputs": [
        {
          "output_type": "execute_result",
          "data": {
            "text/plain": [
              "'10'"
            ],
            "application/vnd.google.colaboratory.intrinsic+json": {
              "type": "string"
            }
          },
          "metadata": {},
          "execution_count": 46
        }
      ]
    },
    {
      "cell_type": "markdown",
      "source": [
        "# python built-in functions\n",
        "\n",
        "* 링크: https://docs.python.org/3/library/functions.html"
      ],
      "metadata": {
        "id": "sPkW9Oqxj5_L"
      }
    },
    {
      "cell_type": "code",
      "source": [
        "# 자주 사용하는 functions(기능)\n",
        "abs\n",
        "all\n",
        "any\n",
        "bin\n",
        "enumerate\n",
        "len\n",
        "format\n",
        "input\n",
        "range\n",
        "\n",
        "sorted\n",
        "reversed\n",
        "\n",
        "filter\n",
        "map\n",
        "zip\n",
        "\n",
        "# isinstance -> 주석 두개는 class파트에서 진행\n",
        "# issubclass\n",
        "iter\n",
        "next\n",
        "\n",
        "locals\n",
        "globals\n",
        "\n",
        "max\n",
        "min\n",
        "sum"
      ],
      "metadata": {
        "id": "PiKDkeDOk5tf"
      },
      "execution_count": null,
      "outputs": []
    },
    {
      "cell_type": "code",
      "source": [
        "# 자료형을 만드는 built-in functions\n",
        "# int\n",
        "# float\n",
        "# str\n",
        "# complex\n",
        "# list\n",
        "# tuple\n",
        "# dict\n",
        "# set"
      ],
      "metadata": {
        "id": "y6fTbwZEmBrm"
      },
      "execution_count": null,
      "outputs": []
    },
    {
      "cell_type": "code",
      "source": [
        "abs(-10) # 절대값으로 바꿔줌\n",
        "all([True, True, False]) # 안에 값이 다 True여야 True\n",
        "any([True, True, False]) # 안에 값이 하나라도 True라면 True\n",
        "bin(10) # 2진수로 바꿔준다, 알고리즘 문제에서 가끔 출제\n",
        "# enumerate\n",
        "# len\n",
        "# format\n",
        "# input\n",
        "# range"
      ],
      "metadata": {
        "colab": {
          "base_uri": "https://localhost:8080/"
        },
        "id": "xRASkN50mE5s",
        "outputId": "de1bc98e-0e05-4a7e-c11b-85d91df16d37"
      },
      "execution_count": null,
      "outputs": [
        {
          "output_type": "execute_result",
          "data": {
            "text/plain": [
              "10"
            ]
          },
          "metadata": {},
          "execution_count": 49
        }
      ]
    }
  ]
}